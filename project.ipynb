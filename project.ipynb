{
 "cells": [
  {
   "cell_type": "code",
   "execution_count": 9,
   "id": "fe3dbc80",
   "metadata": {},
   "outputs": [
    {
     "name": "stdout",
     "output_type": "stream",
     "text": [
      "What would you like to do? purchase ticket/help/cancel help\n",
      "An employee will be with you shortly\n",
      "What would you like to do? purchase ticket/help/cancel purchase ticket\n",
      "Please take your ticket\n"
     ]
    }
   ],
   "source": [
    "# Your parking garage class should have the following methods:\n",
    "# - This should decrease the amount of tickets available by 1\n",
    "# - This should decrease the amount of parkingSpaces available by 1\n",
    "\n",
    "class Garage():\n",
    "    pass\n",
    "\n",
    "    def __init__(self, tickets, parkingSpaces, currentTickets):\n",
    "        self.tickets = tickets\n",
    "        self.parkingSpaces = parkingSpaces\n",
    "        self.currentTickets = currentTickets\n",
    "\n",
    "    def run():\n",
    "        while True: \n",
    "            response = input('What would you like to do? purchase ticket/help/cancel ')\n",
    "            if response.lower() == 'purchase ticket':\n",
    "                print('Please take your ticket')\n",
    "                break\n",
    "            elif response.lower() == 'help':\n",
    "                print('An employee will be with you shortly')\n",
    "            elif response.lower() == 'cancel':\n",
    "                print('Thank you')\n",
    "                break \n",
    "    run() \n",
    "    \n",
    "    def run():\n",
    "        while True: \n",
    "            response = input('What would you like to do? purchase ticket/help/cancel ')\n",
    "            if response.lower() == 'purchase ticket':\n",
    "                print('Please take your ticket')\n",
    "                break\n",
    "            elif response.lower() == 'help':\n",
    "                print('An employee will be with you shortly')\n",
    "            elif response.lower() == 'cancel':\n",
    "                print('Thank you')\n",
    "                break \n",
    "    run()       \n",
    "            \n",
    "# - payForParking\n",
    "# - Display an input that waits for an amount from the user and store it in a variable\n",
    "# - If the payment variable is not empty then (meaning the ticket has been paid) -> display a message to the user that their ticket has been paid and they have 15mins to leave\n",
    "# - This should update the \"currentTicket\" dictionary key \"paid\" to True\n",
    "# -leaveGarage\n",
    "# - If the ticket has been paid, display a message of \"Thank You, have a nice day\"\n",
    "# - If the ticket has not been paid, display an input prompt for payment\n",
    "# - Once paid, display message \"Thank you, have a nice day!\"\n",
    "# - Update parkingSpaces list to increase by 1 (meaning add to the parkingSpaces list)\n",
    "# - Update tickets list to increase by 1 (meaning add to the tickets list)\n",
    "\n",
    "# You will need a few attributes as well:\n",
    "# - tickets -> list\n",
    "# - parkingSpaces -> list\n",
    "# - currentTicket -> dictionary\n",
    "\n",
    "# By the end of this project each student should be able to:\n",
    "# - Explain and/or demonstrate creating classes\n",
    "# - Explain and/or demonstrate creating class methods\n",
    "# - Explain and/or demonstrate class instantiation \n",
    "           \n",
    "    "
   ]
  },
  {
   "cell_type": "code",
   "execution_count": 5,
   "id": "ccea36c4",
   "metadata": {},
   "outputs": [
    {
     "name": "stdout",
     "output_type": "stream",
     "text": [
      "50\n"
     ]
    }
   ],
   "source": [
    "food_dict = {\n",
    "    \"ice_cream\": {\n",
    "        \"CHO\": 2.99, \n",
    "        \"VA\": 3.99,\n",
    "        \"Oreo\": 5.99,\n",
    "        \"PB\": 6.99,\n",
    "    }\n",
    "}\n",
    "\n",
    "print(food_dict['ice_cream']['PB'])\n",
    "\n",
    "for i in food_dict['ice_cream'].items():\n",
    "    print(i)"
   ]
  },
  {
   "cell_type": "code",
   "execution_count": null,
   "id": "3b7c3c93",
   "metadata": {},
   "outputs": [
    {
     "name": "stdout",
     "output_type": "stream",
     "text": [
      "Please pay for ticket enter/help/cancel enter\n",
      "Your total is $5, please select payment type\n"
     ]
    }
   ],
   "source": [
    "def run():\n",
    "    while True:\n",
    "        response = input ('Your total is $5, please select payment type to continue payment/help/cancel ')\n",
    "        \n",
    "        if response.lower() == 'payment':\n",
    "            print('')\n",
    "            break\n",
    "        elif response.lower() == 'add':\n",
    "            Grocery_bag.addToCart()\n",
    "        elif response.lower() == 'show':\n",
    "            Grocery_bag.showCart()\n",
    "        else:\n",
    "            print('Try another command')\n",
    "\n",
    "run()\n"
   ]
  },
  {
   "cell_type": "code",
   "execution_count": null,
   "id": "c8fa1361",
   "metadata": {},
   "outputs": [],
   "source": []
  }
 ],
 "metadata": {
  "kernelspec": {
   "display_name": "Python 3 (ipykernel)",
   "language": "python",
   "name": "python3"
  },
  "language_info": {
   "codemirror_mode": {
    "name": "ipython",
    "version": 3
   },
   "file_extension": ".py",
   "mimetype": "text/x-python",
   "name": "python",
   "nbconvert_exporter": "python",
   "pygments_lexer": "ipython3",
   "version": "3.9.13"
  }
 },
 "nbformat": 4,
 "nbformat_minor": 5
}
